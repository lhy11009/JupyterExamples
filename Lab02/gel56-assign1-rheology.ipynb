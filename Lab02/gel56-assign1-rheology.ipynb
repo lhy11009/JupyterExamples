{
 "cells": [
  {
   "cell_type": "markdown",
   "metadata": {},
   "source": [
    "## GEL 56, Introduction to Geophysics  \n",
    "\n",
    "&copy; Magali I. Billen 2020. This content is protected and may not be shared, uploaded, or distributed.\n",
    "\n",
    "### Assignment 1, Rheology [60 pts]\n",
    "\n",
    "* Strain, stress\n",
    "* Elasticity, frictional sliding fracture\n",
    "* Viscous flow using simple coquette flow geometry\n",
    "\n",
    "Use a code window to do the calculation.\n",
    "Use markdown window(s) to explain what you did and give your final answer.\n",
    "\n",
    "To insert a code cell after a question. Click on the question cell, then select Insert from the top menu.\n",
    "Then click 'Insert Cell Below'\n",
    "\n",
    "***"
   ]
  },
  {
   "cell_type": "markdown",
   "metadata": {},
   "source": [
    "\n",
    "<i>Example: A force of 175 N is uniformly applied to rectangle that is 5 m by 5 m. What is the normal stress?</i>\n"
   ]
  },
  {
   "cell_type": "code",
   "execution_count": 1,
   "metadata": {
    "scrolled": true
   },
   "outputs": [
    {
     "name": "stdout",
     "output_type": "stream",
     "text": [
      "7.0\n"
     ]
    }
   ],
   "source": [
    "# Enter the python code for the calculation in a 'Code' cell. \n",
    "# Remember to use variables and assign them values, and use comments to indicate units\n",
    "\n",
    "F = 175 # N\n",
    "L = 5  # m\n",
    "W = 5   # m\n",
    "\n",
    "A = L*W # Area m^2\n",
    "stress = F/A  # stress, N/m^2 = Pa\n",
    "\n",
    "print(stress)"
   ]
  },
  {
   "cell_type": "markdown",
   "metadata": {},
   "source": [
    "Answer: The stress is 7.0 Pa\n",
    "\n",
    "***"
   ]
  },
  {
   "cell_type": "markdown",
   "metadata": {},
   "source": [
    "1. A force of 125 N is uniformly applied to rectangle that is 10 m by 5 m. What is the normal stress? [2 pts]"
   ]
  },
  {
   "cell_type": "markdown",
   "metadata": {},
   "source": [
    "2. A volcano on the seafloor is 6 km tall at its peak and is 300 km wide at its base. Assuming a constant density of $\\rho_c$ = 2800 kg/m$^3$, what is average stress at the base of\n",
    "the volcano? The volume of a cone is $V = \\pi r^2 h/3$, where $h$ is the height at the center of the cone, and $r$ is the radius at the base of the cone. [4 pts]"
   ]
  },
  {
   "cell_type": "code",
   "execution_count": 2,
   "metadata": {},
   "outputs": [
    {
     "data": {
      "text/plain": [
       "0"
      ]
     },
     "execution_count": 2,
     "metadata": {},
     "output_type": "execute_result"
    }
   ],
   "source": [
    "\n",
    "2^2"
   ]
  },
  {
   "cell_type": "markdown",
   "metadata": {},
   "source": [
    "\n",
    "3. A layer of sedimentary rock is originally 1 km thick. Through elastic compression its thickness is reduced by 0.1 km. What is the strain in the sedimentary layer? Assume 1-D deformation. [2 pts]"
   ]
  },
  {
   "cell_type": "markdown",
   "metadata": {},
   "source": [
    "4. During collision of two continents, a region of one continent that was originally 150 km wide is shortened to be only 50 km wide. What is the percent strain related to this shortening? Assume 1-D deformation. [2 pts]"
   ]
  },
  {
   "cell_type": "markdown",
   "metadata": {},
   "source": [
    "5. Stretched layers within a rift zone have experienced 160% strain, and are now 10 meters wide. \n",
    "What is the original thickness of the layers? Assume 1-D deformation. [2 pts]"
   ]
  },
  {
   "cell_type": "markdown",
   "metadata": {},
   "source": [
    "6. A shear zone that is 0.6 km thick has offset features that are now separate by 15 km along the strike of the shear zone. What is the shear strain within the shear zone?\n",
    "[2 pts]"
   ]
  },
  {
   "cell_type": "markdown",
   "metadata": {},
   "source": [
    "7. In the laboratory, a deformed rock sample experiences a component of strain parallel to the applied stress of en = -0.8 and the component of strain perpendicular to the applied stress is 0.15. What is the Poisson’s ratio ($\\nu$) of the rock? [2 pts]"
   ]
  },
  {
   "cell_type": "markdown",
   "metadata": {},
   "source": [
    "8. In the laboratory, a rock sample is subject to uniaxial stretching resulting in a linear strain of 0.1. The stress applied to the sample is 680 MPa. What is the Young’s modulus (E) of the material? [2 pts]"
   ]
  },
  {
   "cell_type": "markdown",
   "metadata": {},
   "source": [
    "9. A sedimentary rock records strain due to compression of approximately 0.5, what is the stress required to cause the strain observed in the sedimentary layers. Assume the deformation occurs by 1-D elastic strain and the Young’s modulus is E = 8.20 GPa. [2 pts]"
   ]
  },
  {
   "cell_type": "markdown",
   "metadata": {},
   "source": [
    "10. At a depth of 10 km, the pressure (vertical stress, $\\sigma_{zz}$) is given by the lithostatic stress ($\\sigma = \\rho_c g h $ where $\\rho_c = 2800$ kg/m$^3$ for the crust). The strain in the vertical direction is\n",
    "-0.005. Assume axial compression ($\\sigma_{xx} = \\sigma_{yy}$), E = 9 GPa, and $\\nu$ = 0.28. What is the magnitude of the stress in the x and y directions? Compare this number to the lithostatic stress (pressure). [4 pts]\n"
   ]
  },
  {
   "cell_type": "markdown",
   "metadata": {},
   "source": [
    "11. The normal stress on a fault is $\\sigma_n =100$ MPa. Assuming a coefficient of friction of $\\mu = 0.8$, and cohesion of 5 MPa, what is the shear stress, $\\sigma_s$, during sliding on the fault? [2 pts]"
   ]
  },
  {
   "cell_type": "markdown",
   "metadata": {},
   "source": [
    "12. The normal and shear stress acting a fault plane are $\\sigma_n = 137$ MPa and $\\sigma_s = 180$ MPa, assuming a coefficient of friction of $\\mu = 0.8$ and cohesion of 10 MPa, is the fault below, at, or beyond the point of failure? Explain your answer [4 pts]"
   ]
  },
  {
   "cell_type": "markdown",
   "metadata": {},
   "source": [
    "13. The normal and shear stress acting a fault plane are $\\sigma_n = 219$ MPa and $\\sigma_s = 122$ MPa, assuming a coefficient of friction of $\\mu = 0.8$ and cohesion of 10 MPa, is the fault below, at, or beyond the point of failure? Explain your answer. [4 pts]"
   ]
  },
  {
   "cell_type": "markdown",
   "metadata": {},
   "source": [
    "14. During viscous deformation a shear zone experiences flow strains of 0.1 during an episode of deformation taking 2 My. What is the strain-rate (in units of s$^{-1}$)? If the viscosity of the material is $\\eta = 10^{23}$ Pa s, what is the magnitude of the viscous stress? [4 pts]"
   ]
  },
  {
   "cell_type": "markdown",
   "metadata": {},
   "source": [
    "15. A tectonic plate moves at a rate of 5 cm/yr relative to (faster than) the underlying asthenosphere. The decrease in velocity occurs in a layer 100 km thick. What is the strain-rate in the shearing (moving) asthenosphere beneath the tectonic plate? If the viscosity of the asthenosphere is $\\eta = 10^{20}$ Pa s, what is the magnitude of the shear stress (the stress that resists the plate motion) in this shear layering? [4 pts]"
   ]
  },
  {
   "cell_type": "markdown",
   "metadata": {},
   "source": [
    "16. Within a viscously-deforming subducting slab, the magnitude of the viscous stress is about 900 MPa. If the viscosity of the material $\\eta = 10^{24}$ Pa s, what is the magnitude of the strain-rate within the slab. [2 pts]"
   ]
  },
  {
   "cell_type": "markdown",
   "metadata": {},
   "source": [
    "17. Lava with a thickness of 3 m is flowing in a channel that has a slope of 5 degrees. The density of the lava is 3100 kg/m$^3$.<br>\n",
    "a. What is the average stress in the flowing lava? [2 pts]<br>\n",
    "b. Assuming a viscosity of 700 Pa s for a hot lava, what are the maximum strain-rate and maximum velocity in the lava? [4 pts]<br>\n",
    "c. As the flow continues, the lava cools and the viscosity increases to $10^4$ Pa s.<br>\n",
    "What are the maximum strain-rate and maximum velocity in the lava flow now? [4 pts]"
   ]
  },
  {
   "cell_type": "markdown",
   "metadata": {},
   "source": [
    "18. A glacial ice stream is about 1 km thick and is flowing down a slope of 5 degrees. The density of ice is about 910 kg/m$^3$.<br>\n",
    "a. What is the average stress in the ice stream? [2 pts]<br>\n",
    "b. Assuming the ice has a viscosity of about $\\eta = 10^{13}$ Pa s (for very cold ice),\n",
    "what are the maximum strain-rate and maximum viscosity? [4 pts] <br>\n",
    "c. Due to warming temperatures, the viscosity of the ice has decreased to $\\eta = 10^{12}$ Pa s. <br>\n",
    "How has the stress the changed? What is the new maximum flow rate of the ice stream? [4 pts]"
   ]
  },
  {
   "cell_type": "code",
   "execution_count": null,
   "metadata": {},
   "outputs": [],
   "source": []
  }
 ],
 "metadata": {
  "kernelspec": {
   "display_name": "Python 3",
   "language": "python",
   "name": "python3"
  },
  "language_info": {
   "codemirror_mode": {
    "name": "ipython",
    "version": 3
   },
   "file_extension": ".py",
   "mimetype": "text/x-python",
   "name": "python",
   "nbconvert_exporter": "python",
   "pygments_lexer": "ipython3",
   "version": "3.6.7"
  }
 },
 "nbformat": 4,
 "nbformat_minor": 4
}
