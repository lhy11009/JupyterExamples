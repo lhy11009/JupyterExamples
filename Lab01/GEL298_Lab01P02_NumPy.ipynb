{
 "cells": [
  {
   "cell_type": "markdown",
   "metadata": {
    "deletable": false,
    "editable": false,
    "nbgrader": {
     "cell_type": "markdown",
     "checksum": "8cb44d74e65859c11400e4acbd2735c7",
     "grade": false,
     "grade_id": "cell-133eb1fb35cb73ff",
     "locked": true,
     "schema_version": 3,
     "solution": false,
     "task": false
    }
   },
   "source": [
    "# Part 2: Introduction to NumPy and a first plot\n",
    "\n",
    "In Part 1, we looked at some basic elements of the python programming language. Now we're going to look at some additional features of the language and introduce a powerful 'package' for carrying out computational tasks in python. The objectives of this part of the exercise are:\n",
    "\n",
    "1. Introduce the NumPy package and learn how to access it.\n",
    "2. Introduce the NumPy array data type.\n",
    "3. Use a loop to perform an operation on data stored in an array.\n",
    "4. Make a simple graph (plot)"
   ]
  },
  {
   "cell_type": "markdown",
   "metadata": {
    "deletable": false,
    "editable": false,
    "nbgrader": {
     "cell_type": "markdown",
     "checksum": "d178c659c218b7153311ddb468cbdbe2",
     "grade": false,
     "grade_id": "cell-df05ad1903d1aa3e",
     "locked": true,
     "schema_version": 3,
     "solution": false,
     "task": false
    }
   },
   "source": [
    "# NumPy\n",
    "\n",
    "Numpy is an example of a python *package*, which is a collection of functions and data structures that can be loaded and used in your programs. Almost everything that we will do in this course will make use of NumPy in some way. The core functionality in numpy is the introduction of an *array* data type, which can hold a list of floating-point values. NumPy contains a variety of different functions to efficiently access and manipulate data stored in arrays.\n",
    "\n",
    "To load numpy, we use the special python command 'import':\n",
    "\n",
    "'''import numpy as np'''\n",
    "\n",
    "If at any time you need help with NumPy, you can access the help by clicking the **Help** menu above and then clicking **NumPy Reference**"
   ]
  },
  {
   "cell_type": "code",
   "execution_count": null,
   "metadata": {
    "deletable": false,
    "editable": false,
    "nbgrader": {
     "cell_type": "code",
     "checksum": "22f99485af634fc495b8d855a67773e1",
     "grade": false,
     "grade_id": "cell-dd29a77f42c2eeb8",
     "locked": true,
     "schema_version": 3,
     "solution": false,
     "task": false
    }
   },
   "outputs": [],
   "source": [
    "#This will import all of the numpy functions and assign them the prefix 'np'\n",
    "import numpy as np"
   ]
  },
  {
   "cell_type": "markdown",
   "metadata": {
    "deletable": false,
    "editable": false,
    "nbgrader": {
     "cell_type": "markdown",
     "checksum": "7cbfd0ebaf12121f500ac81ac8d691b3",
     "grade": false,
     "grade_id": "cell-680f282663c9588c",
     "locked": true,
     "schema_version": 3,
     "solution": false,
     "task": false
    }
   },
   "source": [
    "As a first example, let's create a numpy array containing a list of numbers between 0-10."
   ]
  },
  {
   "cell_type": "code",
   "execution_count": null,
   "metadata": {
    "deletable": false,
    "editable": false,
    "nbgrader": {
     "cell_type": "code",
     "checksum": "699c627ae14abf9b8ca402edd5bd8b3a",
     "grade": false,
     "grade_id": "cell-a61f2e401349474e",
     "locked": true,
     "schema_version": 3,
     "solution": false,
     "task": false
    }
   },
   "outputs": [],
   "source": [
    "# Note - the data enclosed by square brackets [] are a list of numbers.\n",
    "x = np.array([1,2,3,4,5,6,7,8,9,10])\n",
    "print(x)"
   ]
  },
  {
   "cell_type": "markdown",
   "metadata": {
    "deletable": false,
    "editable": false,
    "nbgrader": {
     "cell_type": "markdown",
     "checksum": "cd0140b56100a604872c7c5a02a25b82",
     "grade": false,
     "grade_id": "cell-3b98749805045193",
     "locked": true,
     "schema_version": 3,
     "solution": false,
     "task": false
    }
   },
   "source": [
    "As you can see, x contains the numbers between 1-10. The array has some important properties that we can examine. First, its shape:"
   ]
  },
  {
   "cell_type": "code",
   "execution_count": null,
   "metadata": {
    "deletable": false,
    "editable": false,
    "nbgrader": {
     "cell_type": "code",
     "checksum": "f920bfcd8e55040cc7e9d723546f9f1f",
     "grade": false,
     "grade_id": "cell-36aee08ec4ab52dc",
     "locked": true,
     "schema_version": 3,
     "solution": false,
     "task": false
    }
   },
   "outputs": [],
   "source": [
    "print(x.shape)"
   ]
  },
  {
   "cell_type": "markdown",
   "metadata": {
    "deletable": false,
    "editable": false,
    "nbgrader": {
     "cell_type": "markdown",
     "checksum": "12ca61ea0e19a0998804e9de8922bb8f",
     "grade": false,
     "grade_id": "cell-d29fd48227b1aec9",
     "locked": true,
     "schema_version": 3,
     "solution": false,
     "task": false
    }
   },
   "source": [
    "One-dimensional arrays in NumPy also have a well-defined property called 'size'. Print out the size of x below:"
   ]
  },
  {
   "cell_type": "code",
   "execution_count": null,
   "metadata": {
    "deletable": false,
    "nbgrader": {
     "cell_type": "code",
     "checksum": "756bdfc925626182d4f83a43956b321c",
     "grade": true,
     "grade_id": "cell-10f2635f881fd17e",
     "locked": false,
     "points": 1,
     "schema_version": 3,
     "solution": true,
     "task": false
    }
   },
   "outputs": [],
   "source": [
    "x.size"
   ]
  },
  {
   "cell_type": "markdown",
   "metadata": {
    "deletable": false,
    "editable": false,
    "nbgrader": {
     "cell_type": "markdown",
     "checksum": "1bfc7cd5846a7c7c94e02b6b68988930",
     "grade": false,
     "grade_id": "cell-124182170208b292",
     "locked": true,
     "schema_version": 3,
     "solution": false,
     "task": false
    }
   },
   "source": [
    "As we can see above, the shape of x is (10,). This means that the array has only one dimension and that it's 10 elements long. NumPy can store multidimensional data (like matrices or 3D volume data) as 2- or 3- dimensional arrays, which we will examine later.\n",
    "\n",
    "Now, what can we do with the data once it's stored in an array? One thing that we might want to do is calculate the mean of the values in the array and assign the mean to a new variable called x_mean. NumPy has some functionality that allows us to calculate the mean with a single command."
   ]
  },
  {
   "cell_type": "code",
   "execution_count": null,
   "metadata": {
    "deletable": false,
    "editable": false,
    "nbgrader": {
     "cell_type": "code",
     "checksum": "0b9ee435502e6f25c0c11e6e5e93f67a",
     "grade": false,
     "grade_id": "cell-ed459bef625be713",
     "locked": true,
     "schema_version": 3,
     "solution": false,
     "task": false
    }
   },
   "outputs": [],
   "source": [
    "x_mean = x.mean()\n",
    "print(x_mean)"
   ]
  },
  {
   "cell_type": "markdown",
   "metadata": {
    "deletable": false,
    "editable": false,
    "nbgrader": {
     "cell_type": "markdown",
     "checksum": "b32fde14ceb2ca974de2bc9948d4dd8a",
     "grade": false,
     "grade_id": "cell-5a4501aca93b7f45",
     "locked": true,
     "schema_version": 3,
     "solution": false,
     "task": false
    }
   },
   "source": [
    "The command above is a little bit different from those that we've seen before. Taking apart the syntax:\n",
    "- 'x' tells python that we want to do something with the variable 'x'.\n",
    "- The '.' after x tells python that we want to access some property of *method* of 'x'. A method is a function that runs on 'x'. A NumPy array has many different methods built in that can be used to manipulate its values.\n",
    "- 'mean()' tells python that we want to calculate the mean of the values in x.\n",
    "\n",
    "To see a full list of the built in methods that can act on a numpy array, go to Help->NumPy Reference and then click on 'ndarray'."
   ]
  },
  {
   "cell_type": "markdown",
   "metadata": {
    "deletable": false,
    "editable": false,
    "nbgrader": {
     "cell_type": "markdown",
     "checksum": "3627ec384fd8104dd117b44a9c1bcc2d",
     "grade": false,
     "grade_id": "cell-e7c8f7070489c744",
     "locked": true,
     "schema_version": 3,
     "solution": false,
     "task": false
    }
   },
   "source": [
    "# Task:\n",
    "Use the NumPy documentation for 'ndarray' (see above) to find out how to calculate the sum of all of the elements in the array x. Assign the result to the variable 'x_sum':"
   ]
  },
  {
   "cell_type": "code",
   "execution_count": null,
   "metadata": {
    "deletable": false,
    "nbgrader": {
     "cell_type": "code",
     "checksum": "daa439024f47cfcdc54847d85e5632ba",
     "grade": false,
     "grade_id": "cell-39e5b34d2fe704bc",
     "locked": false,
     "schema_version": 3,
     "solution": true,
     "task": false
    }
   },
   "outputs": [],
   "source": [
    "# YOUR CODE HERE\n",
    "raise NotImplementedError()"
   ]
  },
  {
   "cell_type": "code",
   "execution_count": null,
   "metadata": {
    "deletable": false,
    "editable": false,
    "nbgrader": {
     "cell_type": "code",
     "checksum": "de334d5313ae0f424df90e16ece30321",
     "grade": true,
     "grade_id": "cell-a3f7cd1fe66403b8",
     "locked": true,
     "points": 1,
     "schema_version": 3,
     "solution": false,
     "task": false
    }
   },
   "outputs": [],
   "source": [
    "assert(x_sum == 55)"
   ]
  },
  {
   "cell_type": "markdown",
   "metadata": {
    "deletable": false,
    "editable": false,
    "nbgrader": {
     "cell_type": "markdown",
     "checksum": "3c157e44d0c41eb442b622d8ed1427a8",
     "grade": false,
     "grade_id": "cell-f19727b04466591c",
     "locked": true,
     "schema_version": 3,
     "solution": false,
     "task": false
    }
   },
   "source": [
    "# Loops\n",
    "\n",
    "Loops allow us to perform the same task repeatedly on changing inputs. There are a couple of ways of looping over things in python. One of the most convenient ways is shown below:\n",
    "\n",
    "``for value in x:\n",
    "        print( value )\n",
    "``\n",
    "\n",
    "Copy this code below and see what it does:"
   ]
  },
  {
   "cell_type": "code",
   "execution_count": null,
   "metadata": {
    "deletable": false,
    "nbgrader": {
     "cell_type": "code",
     "checksum": "3a85b61d85590f69e8fc07d670b7d00f",
     "grade": true,
     "grade_id": "cell-9c475608cc25e96c",
     "locked": false,
     "points": 1,
     "schema_version": 3,
     "solution": true,
     "task": false
    }
   },
   "outputs": [],
   "source": [
    "# YOUR CODE HERE\n",
    "raise NotImplementedError()"
   ]
  },
  {
   "cell_type": "markdown",
   "metadata": {
    "deletable": false,
    "editable": false,
    "nbgrader": {
     "cell_type": "markdown",
     "checksum": "ebc9e8507e50ce5b53c15d896454a3d6",
     "grade": false,
     "grade_id": "cell-02346ea4c74c733b",
     "locked": true,
     "schema_version": 3,
     "solution": false,
     "task": false
    }
   },
   "source": [
    "If your code ran correctly, you should see that python prints out each value in the array x. Now, try to do something a little more complicated. Modify the previous 'for' loop so that it prints out the square of each of the numbers:"
   ]
  },
  {
   "cell_type": "code",
   "execution_count": null,
   "metadata": {
    "deletable": false,
    "nbgrader": {
     "cell_type": "code",
     "checksum": "b9342eb90920de55bc42e81826da9031",
     "grade": true,
     "grade_id": "cell-45b966c848fb8155",
     "locked": false,
     "points": 1,
     "schema_version": 3,
     "solution": true,
     "task": false
    }
   },
   "outputs": [],
   "source": [
    "# YOUR CODE HERE\n",
    "raise NotImplementedError()"
   ]
  },
  {
   "cell_type": "markdown",
   "metadata": {
    "deletable": false,
    "editable": false,
    "nbgrader": {
     "cell_type": "markdown",
     "checksum": "a0f653d1c0f058912b48b1160c21cfa4",
     "grade": false,
     "grade_id": "cell-8921c911db228c83",
     "locked": true,
     "schema_version": 3,
     "solution": false,
     "task": false
    }
   },
   "source": [
    "Sometimes it is useful to read or modify the value at a specific location in an array. In python, we access the value at a specific location in an array using its *index*. In python, the first item in an array has the index '0' and the last item has an index of 'N-1' where 'N' is the length of the array.\n",
    "\n",
    "We can access a specific item in x using the syntax:\n",
    "``x[index]``\n",
    "\n",
    "For example, if we want the second item, we can type:\n",
    "``x[1]``\n",
    "(remember: the second item has an index of 1, because the first item has an index of 0).\n",
    "Use the cell below to experiment with accessing elements in x. Try accessing an element with an index greater than (N-1) or less than 0 and think about what happens."
   ]
  },
  {
   "cell_type": "code",
   "execution_count": null,
   "metadata": {
    "deletable": false,
    "nbgrader": {
     "cell_type": "code",
     "checksum": "b1784371446929bc9bb4680e6531fedf",
     "grade": true,
     "grade_id": "cell-c49f9b6d99c6105d",
     "locked": false,
     "points": 1,
     "schema_version": 3,
     "solution": true,
     "task": false
    }
   },
   "outputs": [],
   "source": [
    "# YOUR CODE HERE\n",
    "raise NotImplementedError()"
   ]
  },
  {
   "cell_type": "code",
   "execution_count": null,
   "metadata": {
    "deletable": false,
    "editable": false,
    "nbgrader": {
     "cell_type": "code",
     "checksum": "40222f0ace51313fa99078aa0d24a518",
     "grade": false,
     "grade_id": "cell-f46d89649f8c78c9",
     "locked": true,
     "schema_version": 3,
     "solution": false,
     "task": false
    }
   },
   "outputs": [],
   "source": [
    "for i in range(0,x.size):\n",
    "    print( x[i]**2 )"
   ]
  },
  {
   "cell_type": "markdown",
   "metadata": {
    "deletable": false,
    "editable": false,
    "nbgrader": {
     "cell_type": "markdown",
     "checksum": "ff61f394a24c86530dafc0f1a6e61e25",
     "grade": false,
     "grade_id": "cell-39ebeca41b40a175",
     "locked": true,
     "schema_version": 3,
     "solution": false,
     "task": false
    }
   },
   "source": [
    "# Your first plot\n",
    "\n",
    "There is a python package called matplotlib that contains functions for preparing figures and visualizing data. Let's go through an example of how to plot the values of a function and prepare a neatly labeled figure:"
   ]
  },
  {
   "cell_type": "code",
   "execution_count": null,
   "metadata": {
    "deletable": false,
    "editable": false,
    "nbgrader": {
     "cell_type": "code",
     "checksum": "9fb87d50a4eb9a27c2394f5d0a0fb27e",
     "grade": false,
     "grade_id": "cell-c59b1e079d225a6e",
     "locked": true,
     "schema_version": 3,
     "solution": false,
     "task": false
    }
   },
   "outputs": [],
   "source": [
    "import matplotlib.pyplot as plt\n",
    "plt.figure()                        # This creates a new figure window\n",
    "t = np.linspace(-1.0,1.0,200)       # Generate 200 uniformly spaced values between -1.0 and 1.0\n",
    "y = np.cos(np.pi*t)                 # Calculate cos(pi*t)\n",
    "plt.plot(t,y,label='cos($\\pi t$)')  # plot t on the horizontal axis and y on the vertical axis. label the curve.\n",
    "plt.legend()                        # add a legend. the label in the legend is taken from the previous 'label'\n",
    "plt.xlabel('x')\n",
    "plt.ylabel('y')\n",
    "plt.show()                          # show the plot"
   ]
  },
  {
   "cell_type": "markdown",
   "metadata": {
    "deletable": false,
    "editable": false,
    "nbgrader": {
     "cell_type": "markdown",
     "checksum": "8d07e1c4f0c73a5e2041c64242c7277a",
     "grade": false,
     "grade_id": "cell-7eccc9f8ea710f1b",
     "locked": true,
     "schema_version": 3,
     "solution": false,
     "task": false
    }
   },
   "source": [
    "# Task:\n",
    "\n",
    "Make a plot of the function $f(x)=x^2$ over the interval $-2\\le x \\le 2$. Use a black line to plot the function. Label the horizontal axis 'x' and the vertical axis 'f(x)'. Add a legend with the formula for the function.\n",
    "\n",
    "*Hint:* To change the line style of the curve, see the documentation for 'plot' by selecting **Help->Matplotlib Reference** above. Then click on Tutorials and look at the 'pyplot' tutorial"
   ]
  },
  {
   "cell_type": "code",
   "execution_count": null,
   "metadata": {
    "deletable": false,
    "nbgrader": {
     "cell_type": "code",
     "checksum": "1bb3bf3eb7a4dd4f073e2e76d97f4935",
     "grade": true,
     "grade_id": "cell-009e7b4f3cb5cb94",
     "locked": false,
     "points": 4,
     "schema_version": 3,
     "solution": true,
     "task": false
    }
   },
   "outputs": [],
   "source": [
    "# YOUR CODE HERE\n",
    "raise NotImplementedError()"
   ]
  },
  {
   "cell_type": "markdown",
   "metadata": {},
   "source": [
    "# A word of caution on copying NumPy arrays\n",
    "# This is important stuff!!!\n",
    "When we store information in an array, the actual numbers are encoded in a region of the computer's memory. To a large extent, Python tries to hide memory management from us so that we can focus on higher level concepts. However, sometimes we must stop and think about what happens when we assign something to a variable. \n",
    "- When we create a new numpy array (e.g. using np.zeros(10,1), a region of memory is allocated to hold the new array and the values are all set to 0.0.\n",
    "- When we assign an existing array to a new variable, the default behavior is that we are assigning a new name to existing information. The information is not copied, we just get a new 'view' into the existing information. **If you are not careful, this can get you into trouble**. If you are familiar with C/C++, this behavior is equivalent to creating a new pointer to an existing array.\n",
    "- If, instead, you want to make a copy of the array, so as to preserve the contents of the original array, you can do so using the `copy()` method built into the ndarray.\n",
    "\n",
    "You can read more about the behavior here [https://docs.scipy.org/doc/numpy/user/quickstart.html#no-copy-at-all]\n",
    "\n",
    "The behavior is illustrated below:"
   ]
  },
  {
   "cell_type": "code",
   "execution_count": null,
   "metadata": {},
   "outputs": [],
   "source": [
    "# create a NumPy array called a\n",
    "a = np.linspace(0,1,4)\n",
    "print(\"a=\",a)\n",
    "b=a     # assign the name 'b' to the existing array 'a'\n",
    "b[1]=10 # modify the contents of b\n",
    "print(\"a=\",a) # print out a. Note that by modifying b, we modified a. That's because b is just another name for a"
   ]
  },
  {
   "cell_type": "code",
   "execution_count": null,
   "metadata": {},
   "outputs": [],
   "source": [
    "# create a NumPy array called a\n",
    "a = np.linspace(0,1,4)\n",
    "print(\"a=\",a)\n",
    "b=a.copy()     # copy the contents of a into a new array and give it the name 'b'\n",
    "b[1]=10        # modify the contents of b\n",
    "print(\"a=\",a)  # print out a. Note that a is unchanged\n",
    "print(\"b=\",b)  # print out b. Note that b has been modified"
   ]
  },
  {
   "cell_type": "code",
   "execution_count": null,
   "metadata": {},
   "outputs": [],
   "source": []
  }
 ],
 "metadata": {
  "kernelspec": {
   "display_name": "Python 3",
   "language": "python",
   "name": "python3"
  },
  "language_info": {
   "codemirror_mode": {
    "name": "ipython",
    "version": 3
   },
   "file_extension": ".py",
   "mimetype": "text/x-python",
   "name": "python",
   "nbconvert_exporter": "python",
   "pygments_lexer": "ipython3",
   "version": "3.6.7"
  }
 },
 "nbformat": 4,
 "nbformat_minor": 4
}
