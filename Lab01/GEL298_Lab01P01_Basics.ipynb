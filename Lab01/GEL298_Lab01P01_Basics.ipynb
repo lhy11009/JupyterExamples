{
 "cells": [
  {
   "cell_type": "markdown",
   "metadata": {
    "deletable": false,
    "editable": false,
    "nbgrader": {
     "cell_type": "markdown",
     "checksum": "383ba60b208fd26f5bc38aa1314248b5",
     "grade": false,
     "grade_id": "header",
     "locked": true,
     "schema_version": 3,
     "solution": false
    }
   },
   "source": [
    "# Part 1: An introduction to jupyter notebooks and python\n",
    "\n",
    "We are going to start with some basic aspects of the jupyter environment. I will give a brief lecture about the history of the notebook concept and some basic python commands. We will go through each of the menu options above and review the key elements of the notebook environment.\n",
    "\n",
    "**The learning objectives for this exercise are:**\n",
    "1. Understand how to assign a value to a variable\n",
    "2. Understand how to add, multiply, and divide variables\n",
    "3. Understand how to compare values (<,>, AND, NOT, OR)\n",
    "3. Understand that variables have a type\n",
    "4. Learn to write a *function*\n",
    "\n",
    "**Resources for learning python, and getting more help:**\n",
    "- Numpy Quickstart Tutorial: https://docs.scipy.org/doc/numpy/user/quickstart.html\n",
    "- Markdown: [Markdown reference](https://jupyter-notebook.readthedocs.io/en/stable/examples/Notebook/Working%20With%20Markdown%20Cells.html)\n",
    "- CodeAcademy Python: https://www.codecademy.com/catalog/language/python\n"
   ]
  },
  {
   "cell_type": "markdown",
   "metadata": {
    "deletable": false,
    "editable": false,
    "nbgrader": {
     "cell_type": "markdown",
     "checksum": "484b9d1372c655bf94354525b562c4cd",
     "grade": false,
     "grade_id": "cell-23dfd017be34c613",
     "locked": true,
     "schema_version": 3,
     "solution": false,
     "task": false
    }
   },
   "source": [
    "# Assigning values to variables\n",
    "\n",
    "The most basic operation in any programming language is *assignment*. When we assign a value to a *variable*, we are telling the programming language that we want to be able to refer to the stored value using the variable's name. We will start by assigning the number 2 to a variable called 'x'. Then, we can ask python to print out the value of x. We do this by typing 'print(x)'."
   ]
  },
  {
   "cell_type": "code",
   "execution_count": null,
   "metadata": {
    "deletable": false,
    "nbgrader": {
     "cell_type": "code",
     "checksum": "d2e29b8f583854e36174963ce10c8852",
     "grade": false,
     "grade_id": "assignment",
     "locked": false,
     "schema_version": 3,
     "solution": true,
     "task": false
    }
   },
   "outputs": [],
   "source": [
    "x=2\n",
    "print(x)"
   ]
  },
  {
   "cell_type": "code",
   "execution_count": null,
   "metadata": {
    "deletable": false,
    "editable": false,
    "nbgrader": {
     "cell_type": "code",
     "checksum": "c9e322548b79241572643806b7f3adea",
     "grade": true,
     "grade_id": "cell-104492d488bd48ee",
     "locked": true,
     "points": 1,
     "schema_version": 3,
     "solution": false,
     "task": false
    }
   },
   "outputs": [],
   "source": [
    "# This is an autograder test. For now, you can ignore the code within this cell.\n",
    "assert( x==2 )"
   ]
  },
  {
   "cell_type": "markdown",
   "metadata": {
    "deletable": false,
    "editable": false,
    "nbgrader": {
     "cell_type": "markdown",
     "checksum": "d80c347e72893761566b5ebb4108843d",
     "grade": false,
     "grade_id": "cell-be5a3eda0626d812",
     "locked": true,
     "schema_version": 3,
     "solution": false,
     "task": false
    }
   },
   "source": [
    "# Arithmetic\n",
    "We can now use python programming to manipulate the variable `x`. Let's calculate the values of $x^2$ and $\\sqrt{x}$ and print them out. We can evalute $a^b$ using the code `a**b`."
   ]
  },
  {
   "cell_type": "code",
   "execution_count": null,
   "metadata": {
    "deletable": false,
    "nbgrader": {
     "cell_type": "code",
     "checksum": "18a61c46dbe29d801a686c9fa286c49f",
     "grade": false,
     "grade_id": "cell-6f40127c5fc4b515",
     "locked": false,
     "schema_version": 3,
     "solution": true,
     "task": false
    }
   },
   "outputs": [],
   "source": [
    "x**0.5"
   ]
  },
  {
   "cell_type": "code",
   "execution_count": null,
   "metadata": {
    "deletable": false,
    "nbgrader": {
     "cell_type": "code",
     "checksum": "adcc861c1f9dc3857091bb264153c7e3",
     "grade": false,
     "grade_id": "cell-e5f26b252d2cd826",
     "locked": false,
     "schema_version": 3,
     "solution": true,
     "task": false
    }
   },
   "outputs": [],
   "source": [
    "raise NotImplementedError()"
   ]
  },
  {
   "cell_type": "markdown",
   "metadata": {
    "deletable": false,
    "editable": false,
    "nbgrader": {
     "cell_type": "markdown",
     "checksum": "e61fd78d93b8174bef5a9fa0f58cc4b7",
     "grade": false,
     "grade_id": "cell-7dad8efe03423999",
     "locked": true,
     "schema_version": 3,
     "solution": false,
     "task": false
    }
   },
   "source": [
    "We can use arithmetic operations to add, multiply, and divide variables. The *operators* for these operations are listed below:\n",
    "\n",
    "| Symbol | Operation |\n",
    "|--------|-----------|\n",
    "| +\t| Addition |\n",
    "| -\t|  Subtraction |\n",
    "| /\t|  division |\n",
    "|  \\% |\tmod |\n",
    "| *\t| multiplication |\n",
    "| // | floor division |\n",
    "| \\*\\* | to the power of |\n",
    "\n",
    "\n",
    "In the cell below, take some time to try out each of the arithmetic operations."
   ]
  },
  {
   "cell_type": "code",
   "execution_count": null,
   "metadata": {
    "deletable": false,
    "nbgrader": {
     "cell_type": "code",
     "checksum": "f8a56870a798f14faf3e1c004fa93d7f",
     "grade": true,
     "grade_id": "cell-3379d2e4d26d4ff8",
     "locked": false,
     "points": 1,
     "schema_version": 3,
     "solution": true,
     "task": false
    }
   },
   "outputs": [],
   "source": [
    "11 % 4"
   ]
  },
  {
   "cell_type": "markdown",
   "metadata": {
    "deletable": false,
    "editable": false,
    "nbgrader": {
     "cell_type": "markdown",
     "checksum": "847c99e5099646335d9d58b014bbf253",
     "grade": false,
     "grade_id": "cell-06def9a7739e5205",
     "locked": true,
     "schema_version": 3,
     "solution": false,
     "task": false
    }
   },
   "source": [
    "# Comparisons and logic\n",
    "We will frequently want to compare the value of one variable with another, or see whether two things are equal. To this end, Python provides logical operators. The comparison operators are listed in the table below:\n",
    "\n",
    "| Symbol | Operation |\n",
    "|--------|-----------|\n",
    "| a > b  | Greater than |\n",
    "| a >= b | Greater than or equal to |\n",
    "| a <  b | Less than |\n",
    "| a <= b | Less than or equal to |\n",
    "| a == b | equal to |\n",
    "| a != b | not equal to |\n",
    "\n",
    "**Note - one of the most common beginner mistakes in coding is to confuse the = and == operators. '=' performs assignment whereas '==' performs a comparison.**\n",
    "\n",
    "When you compare two quantities, the result is always True or False. True and False are examples of Logical values. Note that True and False are capitalized and that case matters! Use the cell below to experiment with logical comparisons."
   ]
  },
  {
   "cell_type": "code",
   "execution_count": null,
   "metadata": {
    "deletable": false,
    "nbgrader": {
     "cell_type": "code",
     "checksum": "37d166e467a55969236fd1f333ff8f47",
     "grade": true,
     "grade_id": "cell-c11c3df9991fbc82",
     "locked": false,
     "points": 1,
     "schema_version": 3,
     "solution": true,
     "task": false
    }
   },
   "outputs": [],
   "source": [
    "a=5\n",
    "b=5\n",
    "a != b"
   ]
  },
  {
   "cell_type": "markdown",
   "metadata": {
    "deletable": false,
    "editable": false,
    "nbgrader": {
     "cell_type": "markdown",
     "checksum": "57758654fc0c85b663a21654c273884e",
     "grade": false,
     "grade_id": "cell-d0d3ca9345e769c6",
     "locked": true,
     "schema_version": 3,
     "solution": false,
     "task": false
    }
   },
   "source": [
    "# Types\n",
    "\n",
    "In python and other programming language, variables store a specific *type* of data. For now, there are three important data types that we have worked with:\n",
    "\n",
    "- Integers ('int type')\n",
    "- Floating point numbers ('float')\n",
    "- Logical\n",
    "- Strings (text characters)\n",
    "\n",
    "Often we don't need to think about data types, but sometimes they become important. For instance, sometimes we need to represent data as an integer, or as a floating point number. When we make comparisons between data types, we often need to be careful. For instance, while 2.0 and 2 mean the same thing to us when working with paper and pencil, they may be represented as a floating point number and an integer, respectively.\n",
    "\n",
    "If you need to know the data type of a variable (and sometimes this is *very* useful for de-bugging code), you can ask python to print out the type of the variable, as shown below:"
   ]
  },
  {
   "cell_type": "code",
   "execution_count": null,
   "metadata": {
    "deletable": false,
    "editable": false,
    "nbgrader": {
     "cell_type": "code",
     "checksum": "25f7cd1cb55564899a9ca6583660871a",
     "grade": false,
     "grade_id": "cell-124a87075abe03d8",
     "locked": true,
     "schema_version": 3,
     "solution": false,
     "task": false
    }
   },
   "outputs": [],
   "source": [
    "a=2\n",
    "print(\"The type of a is \" + str(type(a))) # note that str(x) converts x into a string\n",
    "b=2.0\n",
    "print(\"The type of a is \" + str(type(b)))"
   ]
  },
  {
   "cell_type": "markdown",
   "metadata": {
    "deletable": false,
    "editable": false,
    "nbgrader": {
     "cell_type": "markdown",
     "checksum": "21db7485e28be16bd6e8789125f9bb1c",
     "grade": false,
     "grade_id": "cell-954f87c0b7d36f79",
     "locked": true,
     "schema_version": 3,
     "solution": false,
     "task": false
    }
   },
   "source": [
    "The code above demonstrates something important, which is that by default, a number is represented as an integer if it's a whole number. However, you can force python to represent a number as a floating point number if you include a decimal point (either 'b=2. or b=2.0')"
   ]
  },
  {
   "cell_type": "markdown",
   "metadata": {
    "deletable": false,
    "editable": false,
    "nbgrader": {
     "cell_type": "markdown",
     "checksum": "cbb9731eafe2e6246c09fb4e811d48cf",
     "grade": false,
     "grade_id": "cell-83412d7a0b26c02d",
     "locked": true,
     "schema_version": 3,
     "solution": false,
     "task": false
    }
   },
   "source": [
    "# Functions \n",
    "One of the most common and useful things to do in any programming language is to create a function to carry out a task. The reason that we do this is that often we want to apply the same procedure repeatedly to many different datasets. For instance, we might want to calculate the mean of many different populations."
   ]
  },
  {
   "cell_type": "markdown",
   "metadata": {
    "deletable": false,
    "editable": false,
    "nbgrader": {
     "cell_type": "markdown",
     "checksum": "2e1455a410b945787914428dc860f0be",
     "grade": false,
     "grade_id": "cell-bd5af3603f36c7b3",
     "locked": true,
     "schema_version": 3,
     "solution": false,
     "task": false
    }
   },
   "source": [
    "For our first function, let's write  a function to  take the square-root of an argument. To do this, we have to define the function by giving it a name, which in this case will be `sqrt`. A function operates on some *input* called the *argument* and returns one or more outputs, called the *return value*. We will call the argument `x`. The syntax for our function will be:\n",
    "\n",
    "```def sqrt(x):\n",
    "    return x**0.5\n",
    "    ```\n",
    "    \n",
    "Note that the second line, following the `:` is indented. This is very important! In python, *blocks* of code are organized based on indentation level."
   ]
  },
  {
   "cell_type": "code",
   "execution_count": null,
   "metadata": {
    "deletable": false,
    "nbgrader": {
     "cell_type": "code",
     "checksum": "fd51f3c3d596fb902cbb500fa17e28f3",
     "grade": false,
     "grade_id": "cell-392828d0c890ba1c",
     "locked": false,
     "schema_version": 3,
     "solution": true,
     "task": false
    }
   },
   "outputs": [],
   "source": []
  },
  {
   "cell_type": "code",
   "execution_count": null,
   "metadata": {
    "deletable": false,
    "editable": false,
    "nbgrader": {
     "cell_type": "code",
     "checksum": "c6958c8c0005bfce8a67f64bc49613ac",
     "grade": true,
     "grade_id": "correct_squares",
     "locked": false,
     "points": 1,
     "schema_version": 3,
     "solution": false
    }
   },
   "outputs": [],
   "source": [
    "\"\"\"Check that squares returns the correct output for several inputs\"\"\"\n",
    "assert sqrt(4) == 2.0"
   ]
  },
  {
   "cell_type": "markdown",
   "metadata": {},
   "source": [
    "# Flow control\n",
    "\n",
    "Flow control refers to the use of logical statements to send your program down different 'branches' of execution. In mathematics, we commonly run into functions that have *piecewise* definitions. See the example below:\n",
    "\n",
    "$$\n",
    "f(x) =  \\begin{cases} \n",
    "      0 & x\\leq 0 \\\\\n",
    "      \\frac{50-x}{50} & 0\\leq x\\leq 50 \\\\\n",
    "      0 & 50\\leq x \n",
    "   \\end{cases}\n",
    "$$\n",
    "\n",
    "If we wanted to implement a python function to calculate the values of $f(x)$, we could do the following:"
   ]
  },
  {
   "cell_type": "code",
   "execution_count": null,
   "metadata": {},
   "outputs": [],
   "source": [
    "def f(x):\n",
    "    if x<=1.0:\n",
    "        return 0.0\n",
    "    elif x<=50:\n",
    "        return (50.-x)/50.\n",
    "    else:\n",
    "        return 0.0"
   ]
  },
  {
   "cell_type": "code",
   "execution_count": null,
   "metadata": {},
   "outputs": [],
   "source": [
    "f(49.99)"
   ]
  },
  {
   "cell_type": "markdown",
   "metadata": {},
   "source": [
    "## On your own\n",
    "Write a function that calculates the absolute value of x (without using the built-in absolute value function)."
   ]
  },
  {
   "cell_type": "code",
   "execution_count": null,
   "metadata": {},
   "outputs": [],
   "source": []
  }
 ],
 "metadata": {
  "kernelspec": {
   "display_name": "Python 3",
   "language": "python",
   "name": "python3"
  },
  "language_info": {
   "codemirror_mode": {
    "name": "ipython",
    "version": 3
   },
   "file_extension": ".py",
   "mimetype": "text/x-python",
   "name": "python",
   "nbconvert_exporter": "python",
   "pygments_lexer": "ipython3",
   "version": "3.6.7"
  }
 },
 "nbformat": 4,
 "nbformat_minor": 4
}
