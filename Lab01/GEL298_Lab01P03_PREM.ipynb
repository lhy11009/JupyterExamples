{
 "cells": [
  {
   "cell_type": "markdown",
   "metadata": {},
   "source": [
    "# Part 3 - Exploring PREM (to turn in)\n",
    "\n",
    "The Preliminary Reference Earth Model (Dziewonski and Anderson, 1981) is a model of 1D Earth structure. When working with a 1D model, it's important to acknowledge the limitations of such a model. In the authors own words *An average Earth model, the subject of this work, is a mathematical abstraction. The lateral heterogeneity in the first few tens of kilometres is so large than an average model does not reflect the actual structure at any point.* However throughout much of the mantle (with the exception of the lowermost mantle and the transition zone), the long wavelength deviations from the 1D structure are at the level of a few percent. In the outer core, lateral variations in density are much smaller.\n",
    "\n",
    "You have been provided a copy of the 1D model, downloaded from the [IRIS Earth Model Collaboration](http://ds.iris.edu/ds/products/emc/). As with many models, the model is provided in a text file. The first row of the file contains a header that describes the format of the remainder of the file. After that, each line contains the values of seismic velocities and densities at a given depth (the first column).\n",
    "\n",
    "What I'd like you to do is:\n",
    "1. Write code to read PREM from the data file (you can use np.loadtxt).\n",
    "2. Plot the variation of density, Vs, and Vp with depth. Please put depth on the vertical axis (with zero depth at the surface) and make sure to label the horizontal axes appropriately.\n",
    "\n",
    "I suggest that you organize your code into tasks. Put each task (i.e. reading the data) into its own cell. Add a comment to each cell (or a markdown cell) explaining what it does.\n",
    "\n",
    "The point of this exercise is to (1) develop your skills with python and (2) start to build some familiarity with the properties of Earth's interior.\n",
    "\n",
    "**Please remember that in addition to the programming exercise, there are written problems related to thermodynamics**"
   ]
  },
  {
   "cell_type": "code",
   "execution_count": null,
   "metadata": {},
   "outputs": [],
   "source": []
  },
  {
   "cell_type": "markdown",
   "metadata": {},
   "source": [
    "3. From the 1D model for density, calculate a profile of the gravitational acceleration using the formula\n",
    "$\\underline{g}(r) = -\\frac{G M(r)}{r^2} \\hat{\\underline{r}}$\n",
    "Here, $M(r)$ is the mass contained interior to radius $r$ and $G$ is the universal constant of gravitation. Plot the gravitational acceleration versus depth in mks units.\n",
    "4. Calculate and plot the pressure variation with depth. The pressure gradient with depth is given by $dP/dz=-\\rho g$ where $z$ is depth. What pressure do you expect at the core mantle boundary? You can calculate the pressure gradieng from the previous part and then integrate numerically (e.g. using the trapezoid rule) or using routines from `scipy.integrate`."
   ]
  },
  {
   "cell_type": "code",
   "execution_count": null,
   "metadata": {},
   "outputs": [],
   "source": []
  }
 ],
 "metadata": {
  "kernelspec": {
   "display_name": "Python 3",
   "language": "python",
   "name": "python3"
  },
  "language_info": {
   "codemirror_mode": {
    "name": "ipython",
    "version": 3
   },
   "file_extension": ".py",
   "mimetype": "text/x-python",
   "name": "python",
   "nbconvert_exporter": "python",
   "pygments_lexer": "ipython3",
   "version": "3.6.10"
  }
 },
 "nbformat": 4,
 "nbformat_minor": 4
}
